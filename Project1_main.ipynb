{
 "cells": [
  {
   "cell_type": "markdown",
   "metadata": {},
   "source": [
    "# Project 1 - Main Code\n",
    "# Meal Planning via Data\n",
    "\n",
    "# Nathan Bach, Sean Stroh, Sean Hoffman, \n",
    "# Blake Wilfong, Christine Robicheaux"
   ]
  },
  {
   "cell_type": "markdown",
   "metadata": {},
   "source": [
    "Dependencies"
   ]
  },
  {
   "cell_type": "code",
   "execution_count": null,
   "metadata": {},
   "outputs": [],
   "source": [
    "# dependencies\n",
    "import pandas as pd\n",
    "import random\n",
    "import matplotlib.pyplot as plt\n",
    "import scipy.stats as st\n",
    "import numpy as np"
   ]
  },
  {
   "cell_type": "markdown",
   "metadata": {},
   "source": [
    "Cleansing of USDA SuperTracker_FoodDatabase"
   ]
  },
  {
   "cell_type": "code",
   "execution_count": null,
   "metadata": {},
   "outputs": [],
   "source": [
    "portions = 'Data_Sets/Portions.csv'\n",
    "portion_data = 'Data_Sets/Portion_data.csv'\n",
    "nutrients = 'Data_Sets/Nutrients.csv'\n",
    "categories = 'Data_Sets/Search_Categories.csv'\n",
    "\n",
    "portions_df = pd.read_csv(portions)\n",
    "portion_data_df = pd.read_csv(portion_data)\n",
    "nutrients_df = pd.read_csv(nutrients)\n",
    "categories_df = pd.read_csv(categories)"
   ]
  },
  {
   "cell_type": "code",
   "execution_count": null,
   "metadata": {},
   "outputs": [],
   "source": [
    "# pare down columns\n",
    "nutrients_pare_df = nutrients_df.loc[:, [\"Food_Item_ID\",\"modcode\",\"foodcode\",\"foodname\",\"_203 Protein (g)\",\n",
    "                      \"_204 Total Fat (g)\",\"_205 Carbohydrate (g)\",\"_208 Energy (kcal)\",\"_601 Cholesterol (mg)\",\n",
    "                      \"_606 Fatty acids, total saturated (g)\",\"Calc_Total_Fat_Prct\",\"Calc_Protein_Prct\",\"Calc_Carb_Prct\"]]\n",
    "\n",
    "# rename columns\n",
    "nutrients_pare_df = nutrients_pare_df.rename(columns={\"Food_Item_ID\":\"Food Item ID\",\n",
    "                            \"modcode\":\"ModCode\",\n",
    "                            \"foodcode\":\"Food Code\",\n",
    "                            \"foodname\":\"Food\",\n",
    "                            \"_203 Protein (g)\":\"Proteins (g)\",\n",
    "                            \"_204 Total Fat (g)\":\"Fats (g)\",\n",
    "                            \"_205 Carbohydrate (g)\":\"Carbs (g)\",\n",
    "                            \"_208 Energy (kcal)\":\"Calories\",\n",
    "                            \"_601 Cholesterol (mg)\":\"Cholesterol\",\n",
    "                            \"_606 Fatty acids, total saturated (g)\":\"Saturated Fats (g)\",\n",
    "                            \"Calc_Total_Fat_Prct\":\"Total Fat (% Calories)\",\n",
    "                            \"Calc_Protein_Prct\":\"Total Protein (% Calories)\",\n",
    "                            \"Calc_Carb_Prct\":\"Total Carbohydrate (% Calories)\"\n",
    "                                           })\n",
    "\n",
    "nutrients_pare_df = nutrients_pare_df.dropna(how='any')\n",
    "\n",
    "nutrients_pare_df[\"Food Item ID\"] = nutrients_pare_df.loc[:, \"Food Item ID\"].astype('int64')\n",
    "nutrients_pare_df"
   ]
  },
  {
   "cell_type": "code",
   "execution_count": null,
   "metadata": {},
   "outputs": [],
   "source": [
    "# Drop all rows with missing information\n",
    "nutrients_pare_df = nutrients_pare_df.dropna(how='any')\n",
    "nutrients_pare_df.count()"
   ]
  },
  {
   "cell_type": "code",
   "execution_count": null,
   "metadata": {},
   "outputs": [],
   "source": [
    "# Convert lookup fields from float to int\n",
    "nutrients_pare_df[\"Food Item ID\"] = nutrients_pare_df.loc[:, \"Food Item ID\"].astype('int64')\n",
    "nutrients_pare_df[\"ModCode\"] = nutrients_pare_df.loc[:, \"ModCode\"].astype('int64')\n",
    "nutrients_pare_df[\"Food Code\"] = nutrients_pare_df.loc[:, \"Food Code\"].astype('int64')\n",
    "nutrients_pare_df"
   ]
  },
  {
   "cell_type": "code",
   "execution_count": null,
   "metadata": {},
   "outputs": [],
   "source": [
    "# Remove duplicate records from nutrients table\n",
    "nutrients_pare_df.drop_duplicates(subset =\"Food Code\",keep = 'first', inplace = True)\n",
    "nutrients_pare_df"
   ]
  },
  {
   "cell_type": "code",
   "execution_count": null,
   "metadata": {},
   "outputs": [],
   "source": [
    "# pare down columns from categories data set\n",
    "categories_df = categories_df[[\"foodcode\",\"foodname\",\"Beverages\",\n",
    "                      \"Breads, cereals, bakery items\",\"Pasta and rice*\",\"Fruits*\",\"Vegetables*\",\n",
    "                      \"Dairy*\",\"Meat, poultry, fish, eggs, and soy*\",\"Meals and entrees (mixed dishes)\",\"Snacks\",\n",
    "                      \"Additions to foods**\",\"Fast foods\",\"Sweets and desserts\",\"Recipe Ingredients\"]]\n",
    "# rename columns\n",
    "categories_df = categories_df.rename(columns={\n",
    "                            \"foodcode\":\"Food Code\",\n",
    "                            \"foodname\":\"Food\",\n",
    "                            \"Beverages\":\"Beverages\",\n",
    "                            \"Breads, cereals, bakery items\":\"Breads\",\n",
    "                            \"Pasta and rice*\":\"Starch\",\n",
    "                            \"Fruits*\":\"Fruits\",\n",
    "                            \"Vegetables*\":\"Vegetables\",\n",
    "                            \"Dairy*\":\"Dairy\",\n",
    "                            \"Meat, poultry, fish, eggs, and soy*\":\"Proteins\",\n",
    "                            \"Meals and entrees (mixed dishes)\":\"Meals\",\n",
    "                            \"Snacks\":\"Snacks\",\n",
    "                            \"Additions to foods**\":\"Other\",\n",
    "                            \"Fast foods\":\"FastFood\",\n",
    "                            \"Sweets and desserts\":\"Sweets\",\n",
    "                            \"Recipe Ingredients\":\"Recipe\"\n",
    "                                           })\n",
    "# Remove duplicate values\n",
    "categories_df.drop_duplicates(subset =\"Food Code\",keep = 'first', inplace = True)\n",
    "categories_df"
   ]
  },
  {
   "cell_type": "code",
   "execution_count": null,
   "metadata": {},
   "outputs": [],
   "source": [
    "# merge table data for nutrients data and categories\n",
    "nutrition_merge_df = pd.merge(nutrients_pare_df, categories_df, on=\"Food Code\", how=\"left\")\n",
    "nutrition_merge_df"
   ]
  },
  {
   "cell_type": "code",
   "execution_count": null,
   "metadata": {},
   "outputs": [],
   "source": [
    "# remove duplicate values from portions data, and pare down the columns\n",
    "portions_df.drop_duplicates(subset =\"portion_code\",keep = 'first', inplace = True)\n",
    "portions_df = portions_df.loc[:, [\"portion_code\",\"portiondesc\"]]\n",
    "portions_df"
   ]
  },
  {
   "cell_type": "code",
   "execution_count": null,
   "metadata": {},
   "outputs": [],
   "source": [
    "# sort the portion data on \"Use by default\" field, remove duplicate values, then pare down the columns\n",
    "\n",
    "portion_data_df = portion_data_df.sort_values(by='Use as default', ascending=False)\n",
    "portion_data_df.drop_duplicates(subset =\"foodcode\",keep = 'first', inplace = True)\n",
    "\n",
    "portion_data_df = portion_data_df.sort_values(by='foodcode', ascending=True)\n",
    "portion_data_df = portion_data_df.loc[:, [\"foodcode\",\"foodname\",\"portion_code\",\"portionwgt\",\"portiondesc\"]]\n",
    "portion_data_df = portion_data_df.rename(columns={\n",
    "                            \"foodcode\":\"Food Code\",\n",
    "                            \"foodname\":\"Food\",\n",
    "                            \"portion_code\":\"Portion_Code\",\n",
    "                            \"portionwgt\":\"Gram_Weight\",\n",
    "                            \"portiondesc\":\"Portion_Desc\"\n",
    "                            })\n",
    "portion_data_df"
   ]
  },
  {
   "cell_type": "code",
   "execution_count": null,
   "metadata": {},
   "outputs": [],
   "source": [
    "# merge table data for nutrients data and portions\n",
    "nutrients_merge_df = pd.merge(nutrition_merge_df, portion_data_df, on = 'Food Code', how = 'left')\n",
    "nutrients_merge_df"
   ]
  },
  {
   "cell_type": "code",
   "execution_count": null,
   "metadata": {},
   "outputs": [],
   "source": [
    "# fill in the null values that imported from the categories data to obtain better select criteria\n",
    "nutrients_clean = nutrients_merge_df.fillna(0)\n",
    "nutrients_clean"
   ]
  },
  {
   "cell_type": "code",
   "execution_count": null,
   "metadata": {},
   "outputs": [],
   "source": [
    "# ensure that data types within the dataframe are clean\n",
    "nutrients_clean[\"Food_x\"] = nutrients_clean.loc[:, \"Food_x\"].astype('str')\n",
    "nutrients_clean[\"Total Carbohydrate (% Calories)\"] = nutrients_clean.loc[:, \"Total Carbohydrate (% Calories)\"].astype('float64')\n",
    "nutrients_clean[\"Food_y\"] = nutrients_clean.loc[:, \"Food_y\"].astype('str')\n",
    "nutrients_clean[\"Beverages\"] = nutrients_clean.loc[:, \"Beverages\"].astype('str')\n",
    "nutrients_clean[\"Breads\"] = nutrients_clean.loc[:, \"Breads\"].astype('str')\n",
    "nutrients_clean[\"Starch\"] = nutrients_clean.loc[:, \"Starch\"].astype('str')\n",
    "nutrients_clean[\"Fruits\"] = nutrients_clean.loc[:, \"Fruits\"].astype('str')\n",
    "nutrients_clean[\"Vegetables\"] = nutrients_clean.loc[:, \"Vegetables\"].astype('str')\n",
    "nutrients_clean[\"Dairy\"] = nutrients_clean.loc[:, \"Dairy\"].astype('str')\n",
    "nutrients_clean[\"Proteins\"] = nutrients_clean.loc[:, \"Proteins\"].astype('str')\n",
    "nutrients_clean[\"Meals\"] = nutrients_clean.loc[:, \"Meals\"].astype('str')\n",
    "nutrients_clean[\"Snacks\"] = nutrients_clean.loc[:, \"Snacks\"].astype('str')\n",
    "nutrients_clean[\"Other\"] = nutrients_clean.loc[:, \"Other\"].astype('str')\n",
    "nutrients_clean[\"FastFood\"] = nutrients_clean.loc[:, \"FastFood\"].astype('str')\n",
    "nutrients_clean[\"Sweets\"] = nutrients_clean.loc[:, \"Sweets\"].astype('str')\n",
    "nutrients_clean[\"Recipe\"] = nutrients_clean.loc[:, \"Recipe\"].astype('str')\n",
    "nutrients_clean[\"Food\"] = nutrients_clean.loc[:, \"Food\"].astype('str')\n",
    "nutrients_clean[\"Portion_Desc\"] = nutrients_clean.loc[:, \"Portion_Desc\"].astype('str')"
   ]
  },
  {
   "cell_type": "code",
   "execution_count": null,
   "metadata": {},
   "outputs": [],
   "source": [
    "# Remove outlier data for anomalous recipe ingredient foods such as Baking Powder, Salt, Ground White Pepper, and Vanilla Extract\n",
    "\n",
    "suppressions_df = nutrients_clean.loc[~((nutrients_clean[\"Beverages\"] == '0') & \n",
    "                                     (nutrients_clean[\"Breads\"] == '0') & \n",
    "                                     (nutrients_clean[\"Starch\"] == '0') & \n",
    "                                     (nutrients_clean[\"Fruits\"] == '0') & \n",
    "                                     (nutrients_clean[\"Vegetables\"] == '0') & \n",
    "                                     (nutrients_clean[\"Dairy\"] == '0') & \n",
    "                                     (nutrients_clean[\"Proteins\"] == '0') & \n",
    "                                     (nutrients_clean[\"Meals\"] == '0') & \n",
    "                                     (nutrients_clean[\"Snacks\"] == '0') & \n",
    "                                     (nutrients_clean[\"Other\"] == 'X') & \n",
    "                                     (nutrients_clean[\"FastFood\"] == '0') & \n",
    "                                     (nutrients_clean[\"Sweets\"] == '0') & \n",
    "                                     (nutrients_clean[\"Recipe\"] == 'X') \n",
    "                                       ),:]\n",
    "suppressions_df = suppressions_df.loc[~((nutrients_clean[\"Beverages\"] == '0') & \n",
    "                                     (nutrients_clean[\"Breads\"] == '0') & \n",
    "                                     (nutrients_clean[\"Starch\"] == '0') & \n",
    "                                     (nutrients_clean[\"Fruits\"] == '0') & \n",
    "                                     (nutrients_clean[\"Vegetables\"] == '0') & \n",
    "                                     (nutrients_clean[\"Dairy\"] == '0') & \n",
    "                                     (nutrients_clean[\"Proteins\"] == '0') & \n",
    "                                     (nutrients_clean[\"Meals\"] == '0') & \n",
    "                                     (nutrients_clean[\"Snacks\"] == '0') & \n",
    "                                     (nutrients_clean[\"Other\"] == '0') & \n",
    "                                     (nutrients_clean[\"FastFood\"] == '0') & \n",
    "                                     (nutrients_clean[\"Sweets\"] == '0') & \n",
    "                                     (nutrients_clean[\"Recipe\"] == 'X') \n",
    "                                       ),:]\n",
    "suppressions_df"
   ]
  },
  {
   "cell_type": "code",
   "execution_count": null,
   "metadata": {},
   "outputs": [],
   "source": [
    "# pare down columns\n",
    "suppressions_df = suppressions_df.loc[:, [\"Food Code\",\"Food_x\",\"Proteins (g)\",\"Fats (g)\",\"Carbs (g)\",\"Calories\",\n",
    "                                          \"Cholesterol\",\"Saturated Fats (g)\",\"Total Fat (% Calories)\",\"Total Protein (% Calories)\",\n",
    "                                          \"Total Carbohydrate (% Calories)\",\"Beverages\",\"Breads\",\"Starch\",\"Fruits\",\n",
    "                                          \"Vegetables\",\"Dairy\",\"Proteins\",\"Meals\",\"Snacks\",\"Other\",\n",
    "                                          \"FastFood\",\"Sweets\",\"Recipe\",\"Portion_Code\",\"Gram_Weight\",\"Portion_Desc\"]]\n",
    "suppressions_df = suppressions_df.rename(columns={\n",
    "                            \"Food_x\":\"Food\"})\n",
    "suppressions_df"
   ]
  },
  {
   "cell_type": "code",
   "execution_count": null,
   "metadata": {},
   "outputs": [],
   "source": [
    "# assign categories to a list by running a loop through the dataframe that compares the percentage of calories that come\n",
    "# from Fat, Protein, and Carbohydrate to determine which category a food belongs in. Write that list back to the dataframe.\n",
    "\n",
    "category = []\n",
    "\n",
    "for i, row in suppressions_df.iterrows():\n",
    "    if (row[\"Total Fat (% Calories)\"] >= row[\"Total Protein (% Calories)\"]) & \n",
    "       (row[\"Total Fat (% Calories)\"] >= row[\"Total Carbohydrate (% Calories)\"]):\n",
    "        category.append(\"Fats\")\n",
    "    elif (row[\"Total Protein (% Calories)\"] > row[\"Total Fat (% Calories)\"]) & \n",
    "         (row[\"Total Protein (% Calories)\"] > row[\"Total Carbohydrate (% Calories)\"]):\n",
    "        category.append(\"Proteins\")\n",
    "    elif (row[\"Total Carbohydrate (% Calories)\"] > row[\"Total Fat (% Calories)\"]) & \n",
    "         (row[\"Total Carbohydrate (% Calories)\"] > row[\"Total Protein (% Calories)\"]):\n",
    "        category.append(\"Carbs\")\n",
    "    else:\n",
    "        category.append(\"Other\")\n",
    "\n",
    "suppressions_df[\"Category\"] = category\n",
    "\n",
    "suppressions_df.head()"
   ]
  },
  {
   "cell_type": "code",
   "execution_count": null,
   "metadata": {},
   "outputs": [],
   "source": [
    "# pare down the dataframe one final time and prepare for export to CSV.\n",
    "final_nutrients = suppressions_df.loc[:,[\n",
    "    \"Food Code\",\"Category\",\"Food\",\"Proteins (g)\",\"Fats (g)\",\"Carbs (g)\",\"Calories\",\"Cholesterol\",\"Saturated Fats (g)\",\n",
    "    \"Total Fat (% Calories)\",\"Total Protein (% Calories)\",\"Total Carbohydrate (% Calories)\",\"Gram_Weight\",\"Portion_Desc\"\n",
    "]]\n",
    "final_nutrients"
   ]
  },
  {
   "cell_type": "code",
   "execution_count": null,
   "metadata": {},
   "outputs": [],
   "source": [
    "# export the final_nutrients dataframe to a CSV file to be used in our program\n",
    "\n",
    "final_nutrients.to_csv('Data_Sets/final_nutrients.csv')"
   ]
  },
  {
   "cell_type": "markdown",
   "metadata": {},
   "source": [
    "Data Staging for plotting of macronutrients"
   ]
  },
  {
   "cell_type": "code",
   "execution_count": 2,
   "metadata": {},
   "outputs": [
    {
     "data": {
      "text/html": [
       "<div>\n",
       "<style scoped>\n",
       "    .dataframe tbody tr th:only-of-type {\n",
       "        vertical-align: middle;\n",
       "    }\n",
       "\n",
       "    .dataframe tbody tr th {\n",
       "        vertical-align: top;\n",
       "    }\n",
       "\n",
       "    .dataframe thead th {\n",
       "        text-align: right;\n",
       "    }\n",
       "</style>\n",
       "<table border=\"1\" class=\"dataframe\">\n",
       "  <thead>\n",
       "    <tr style=\"text-align: right;\">\n",
       "      <th></th>\n",
       "      <th>Unnamed: 0</th>\n",
       "      <th>Food Code</th>\n",
       "      <th>Category</th>\n",
       "      <th>Food</th>\n",
       "      <th>Proteins (g)</th>\n",
       "      <th>Fats (g)</th>\n",
       "      <th>Carbs (g)</th>\n",
       "      <th>Calories</th>\n",
       "      <th>Cholesterol</th>\n",
       "      <th>Saturated Fats (g)</th>\n",
       "      <th>Total Fat (% Calories)</th>\n",
       "      <th>Total Protein (% Calories)</th>\n",
       "      <th>Total Carbohydrate (% Calories)</th>\n",
       "      <th>Gram_Weight</th>\n",
       "      <th>Portion_Desc</th>\n",
       "    </tr>\n",
       "  </thead>\n",
       "  <tbody>\n",
       "    <tr>\n",
       "      <th>0</th>\n",
       "      <td>0</td>\n",
       "      <td>11111000</td>\n",
       "      <td>Fats</td>\n",
       "      <td>Milk, whole</td>\n",
       "      <td>3.1499</td>\n",
       "      <td>3.2500</td>\n",
       "      <td>4.7999</td>\n",
       "      <td>61.0</td>\n",
       "      <td>10.0</td>\n",
       "      <td>1.8650</td>\n",
       "      <td>47.9508</td>\n",
       "      <td>20.6551</td>\n",
       "      <td>31.4748</td>\n",
       "      <td>244.0</td>\n",
       "      <td>cup</td>\n",
       "    </tr>\n",
       "    <tr>\n",
       "      <th>1</th>\n",
       "      <td>1</td>\n",
       "      <td>11111100</td>\n",
       "      <td>Fats</td>\n",
       "      <td>Milk, whole, low-sodium</td>\n",
       "      <td>3.1000</td>\n",
       "      <td>3.4599</td>\n",
       "      <td>4.4599</td>\n",
       "      <td>61.0</td>\n",
       "      <td>14.0</td>\n",
       "      <td>2.1539</td>\n",
       "      <td>51.0477</td>\n",
       "      <td>20.3279</td>\n",
       "      <td>29.2452</td>\n",
       "      <td>244.0</td>\n",
       "      <td>cup</td>\n",
       "    </tr>\n",
       "    <tr>\n",
       "      <th>2</th>\n",
       "      <td>2</td>\n",
       "      <td>11111150</td>\n",
       "      <td>Fats</td>\n",
       "      <td>Milk, whole, calcium fortified</td>\n",
       "      <td>3.1499</td>\n",
       "      <td>3.2500</td>\n",
       "      <td>4.7999</td>\n",
       "      <td>61.0</td>\n",
       "      <td>10.0</td>\n",
       "      <td>1.8650</td>\n",
       "      <td>47.9508</td>\n",
       "      <td>20.6551</td>\n",
       "      <td>31.4748</td>\n",
       "      <td>247.0</td>\n",
       "      <td>cup</td>\n",
       "    </tr>\n",
       "    <tr>\n",
       "      <th>3</th>\n",
       "      <td>3</td>\n",
       "      <td>11111160</td>\n",
       "      <td>Carbs</td>\n",
       "      <td>1% milk, calcium fortified</td>\n",
       "      <td>3.3700</td>\n",
       "      <td>0.9700</td>\n",
       "      <td>4.9900</td>\n",
       "      <td>42.0</td>\n",
       "      <td>5.0</td>\n",
       "      <td>0.6330</td>\n",
       "      <td>20.7857</td>\n",
       "      <td>32.0952</td>\n",
       "      <td>47.5238</td>\n",
       "      <td>247.0</td>\n",
       "      <td>cup</td>\n",
       "    </tr>\n",
       "    <tr>\n",
       "      <th>4</th>\n",
       "      <td>4</td>\n",
       "      <td>11111170</td>\n",
       "      <td>Carbs</td>\n",
       "      <td>Fat free milk, calcium fortified</td>\n",
       "      <td>3.3999</td>\n",
       "      <td>0.1800</td>\n",
       "      <td>4.8498</td>\n",
       "      <td>35.0</td>\n",
       "      <td>2.0</td>\n",
       "      <td>0.1170</td>\n",
       "      <td>4.6286</td>\n",
       "      <td>38.8560</td>\n",
       "      <td>55.4263</td>\n",
       "      <td>247.0</td>\n",
       "      <td>cup</td>\n",
       "    </tr>\n",
       "    <tr>\n",
       "      <th>...</th>\n",
       "      <td>...</td>\n",
       "      <td>...</td>\n",
       "      <td>...</td>\n",
       "      <td>...</td>\n",
       "      <td>...</td>\n",
       "      <td>...</td>\n",
       "      <td>...</td>\n",
       "      <td>...</td>\n",
       "      <td>...</td>\n",
       "      <td>...</td>\n",
       "      <td>...</td>\n",
       "      <td>...</td>\n",
       "      <td>...</td>\n",
       "      <td>...</td>\n",
       "      <td>...</td>\n",
       "    </tr>\n",
       "    <tr>\n",
       "      <th>5276</th>\n",
       "      <td>5660</td>\n",
       "      <td>95312560</td>\n",
       "      <td>Carbs</td>\n",
       "      <td>Ocean Spray cran-energy cranberry energy juice...</td>\n",
       "      <td>0.0000</td>\n",
       "      <td>0.0000</td>\n",
       "      <td>3.7500</td>\n",
       "      <td>15.0</td>\n",
       "      <td>0.0</td>\n",
       "      <td>0.0000</td>\n",
       "      <td>0.0000</td>\n",
       "      <td>0.0000</td>\n",
       "      <td>100.0000</td>\n",
       "      <td>360.0</td>\n",
       "      <td>bottle (12 fl oz)</td>\n",
       "    </tr>\n",
       "    <tr>\n",
       "      <th>5277</th>\n",
       "      <td>5661</td>\n",
       "      <td>95312900</td>\n",
       "      <td>Carbs</td>\n",
       "      <td>XS energy drink</td>\n",
       "      <td>0.2500</td>\n",
       "      <td>0.0800</td>\n",
       "      <td>0.7000</td>\n",
       "      <td>5.0</td>\n",
       "      <td>0.0</td>\n",
       "      <td>0.0000</td>\n",
       "      <td>14.4000</td>\n",
       "      <td>20.0000</td>\n",
       "      <td>56.0000</td>\n",
       "      <td>252.0</td>\n",
       "      <td>can (8.3 fl oz)</td>\n",
       "    </tr>\n",
       "    <tr>\n",
       "      <th>5278</th>\n",
       "      <td>5662</td>\n",
       "      <td>95312905</td>\n",
       "      <td>Carbs</td>\n",
       "      <td>XS Gold Plus energy drink</td>\n",
       "      <td>0.2500</td>\n",
       "      <td>0.0800</td>\n",
       "      <td>0.7000</td>\n",
       "      <td>5.0</td>\n",
       "      <td>0.0</td>\n",
       "      <td>0.0000</td>\n",
       "      <td>14.4000</td>\n",
       "      <td>20.0000</td>\n",
       "      <td>56.0000</td>\n",
       "      <td>252.0</td>\n",
       "      <td>can (8.3 fl oz)</td>\n",
       "    </tr>\n",
       "    <tr>\n",
       "      <th>5279</th>\n",
       "      <td>5663</td>\n",
       "      <td>95341000</td>\n",
       "      <td>Carbs</td>\n",
       "      <td>FUZE Slenderize fortified low calorie fruit ju...</td>\n",
       "      <td>0.0000</td>\n",
       "      <td>0.0000</td>\n",
       "      <td>0.7000</td>\n",
       "      <td>4.0</td>\n",
       "      <td>0.0</td>\n",
       "      <td>0.0000</td>\n",
       "      <td>0.0000</td>\n",
       "      <td>0.0000</td>\n",
       "      <td>70.0000</td>\n",
       "      <td>555.0</td>\n",
       "      <td>bottle</td>\n",
       "    </tr>\n",
       "    <tr>\n",
       "      <th>5280</th>\n",
       "      <td>5664</td>\n",
       "      <td>95342000</td>\n",
       "      <td>Carbs</td>\n",
       "      <td>MonaVie acai blend beverage</td>\n",
       "      <td>0.0000</td>\n",
       "      <td>0.0000</td>\n",
       "      <td>0.7000</td>\n",
       "      <td>4.0</td>\n",
       "      <td>0.0</td>\n",
       "      <td>0.0000</td>\n",
       "      <td>0.0000</td>\n",
       "      <td>0.0000</td>\n",
       "      <td>70.0000</td>\n",
       "      <td>248.0</td>\n",
       "      <td>cup</td>\n",
       "    </tr>\n",
       "  </tbody>\n",
       "</table>\n",
       "<p>5281 rows × 15 columns</p>\n",
       "</div>"
      ],
      "text/plain": [
       "      Unnamed: 0  Food Code Category  \\\n",
       "0              0   11111000     Fats   \n",
       "1              1   11111100     Fats   \n",
       "2              2   11111150     Fats   \n",
       "3              3   11111160    Carbs   \n",
       "4              4   11111170    Carbs   \n",
       "...          ...        ...      ...   \n",
       "5276        5660   95312560    Carbs   \n",
       "5277        5661   95312900    Carbs   \n",
       "5278        5662   95312905    Carbs   \n",
       "5279        5663   95341000    Carbs   \n",
       "5280        5664   95342000    Carbs   \n",
       "\n",
       "                                                   Food  Proteins (g)  \\\n",
       "0                                           Milk, whole        3.1499   \n",
       "1                               Milk, whole, low-sodium        3.1000   \n",
       "2                        Milk, whole, calcium fortified        3.1499   \n",
       "3                           1% milk, calcium fortified         3.3700   \n",
       "4                     Fat free milk, calcium fortified         3.3999   \n",
       "...                                                 ...           ...   \n",
       "5276  Ocean Spray cran-energy cranberry energy juice...        0.0000   \n",
       "5277                                    XS energy drink        0.2500   \n",
       "5278                          XS Gold Plus energy drink        0.2500   \n",
       "5279  FUZE Slenderize fortified low calorie fruit ju...        0.0000   \n",
       "5280                        MonaVie acai blend beverage        0.0000   \n",
       "\n",
       "      Fats (g)  Carbs (g)  Calories  Cholesterol  Saturated Fats (g)  \\\n",
       "0       3.2500     4.7999      61.0         10.0              1.8650   \n",
       "1       3.4599     4.4599      61.0         14.0              2.1539   \n",
       "2       3.2500     4.7999      61.0         10.0              1.8650   \n",
       "3       0.9700     4.9900      42.0          5.0              0.6330   \n",
       "4       0.1800     4.8498      35.0          2.0              0.1170   \n",
       "...        ...        ...       ...          ...                 ...   \n",
       "5276    0.0000     3.7500      15.0          0.0              0.0000   \n",
       "5277    0.0800     0.7000       5.0          0.0              0.0000   \n",
       "5278    0.0800     0.7000       5.0          0.0              0.0000   \n",
       "5279    0.0000     0.7000       4.0          0.0              0.0000   \n",
       "5280    0.0000     0.7000       4.0          0.0              0.0000   \n",
       "\n",
       "      Total Fat (% Calories)  Total Protein (% Calories)  \\\n",
       "0                    47.9508                     20.6551   \n",
       "1                    51.0477                     20.3279   \n",
       "2                    47.9508                     20.6551   \n",
       "3                    20.7857                     32.0952   \n",
       "4                     4.6286                     38.8560   \n",
       "...                      ...                         ...   \n",
       "5276                  0.0000                      0.0000   \n",
       "5277                 14.4000                     20.0000   \n",
       "5278                 14.4000                     20.0000   \n",
       "5279                  0.0000                      0.0000   \n",
       "5280                  0.0000                      0.0000   \n",
       "\n",
       "      Total Carbohydrate (% Calories)  Gram_Weight       Portion_Desc  \n",
       "0                             31.4748        244.0                cup  \n",
       "1                             29.2452        244.0                cup  \n",
       "2                             31.4748        247.0                cup  \n",
       "3                             47.5238        247.0                cup  \n",
       "4                             55.4263        247.0                cup  \n",
       "...                               ...          ...                ...  \n",
       "5276                         100.0000        360.0  bottle (12 fl oz)  \n",
       "5277                          56.0000        252.0    can (8.3 fl oz)  \n",
       "5278                          56.0000        252.0    can (8.3 fl oz)  \n",
       "5279                          70.0000        555.0             bottle  \n",
       "5280                          70.0000        248.0                cup  \n",
       "\n",
       "[5281 rows x 15 columns]"
      ]
     },
     "execution_count": 2,
     "metadata": {},
     "output_type": "execute_result"
    }
   ],
   "source": [
    "# read csv and turn into DF\n",
    "nutrients_df = pd.read_csv(\"Data_Sets/final_nutrients.csv\")\n",
    "nutrients_df"
   ]
  },
  {
   "cell_type": "code",
   "execution_count": 3,
   "metadata": {},
   "outputs": [
    {
     "data": {
      "text/plain": [
       "Carbs       3185\n",
       "Fats        1589\n",
       "Proteins     505\n",
       "Other          2\n",
       "Name: Category, dtype: int64"
      ]
     },
     "execution_count": 3,
     "metadata": {},
     "output_type": "execute_result"
    }
   ],
   "source": [
    "# run a count to test data\n",
    "nutrients_df[\"Category\"].value_counts()"
   ]
  },
  {
   "cell_type": "code",
   "execution_count": 4,
   "metadata": {
    "scrolled": true
   },
   "outputs": [],
   "source": [
    "# create new DFs for each food category\n",
    "carbs_df = nutrients_df[nutrients_df[\"Category\"] == \"Carbs\"]\n",
    "proteins_df = nutrients_df[nutrients_df[\"Category\"] == \"Proteins\"]\n",
    "fats_df = nutrients_df[nutrients_df[\"Category\"] == \"Fats\"]"
   ]
  },
  {
   "cell_type": "markdown",
   "metadata": {},
   "source": [
    "Macronutrient Plotting - Nutrient vs. Caloric Content"
   ]
  },
  {
   "cell_type": "code",
   "execution_count": 24,
   "metadata": {},
   "outputs": [
    {
     "data": {
      "image/png": "[encoded data removed]",
      "text/plain": [
       "<Figure size 432x288 with 1 Axes>"
      ]
     },
     "metadata": {
      "needs_background": "light"
     },
     "output_type": "display_data"
    }
   ],
   "source": [
    "plt.scatter(proteins_df[\"Calories\"],proteins_df[\"Carbs (g)\"],edgecolors=\"black\",facecolors=\"purple\")\n",
    "plt.title(\"Proteins Vs Calories\")\n",
    "plt.xlabel(\"Proteins\")\n",
    "plt.ylabel(\"Calories\")\n",
    "plt.savefig(\"Images/proteins_scatter.png\")\n",
    "plt.show()"
   ]
  },
  {
   "cell_type": "code",
   "execution_count": 25,
   "metadata": {},
   "outputs": [
    {
     "data": {
      "image/png": "[encoded data removed]",
      "text/plain": [
       "<Figure size 432x288 with 1 Axes>"
      ]
     },
     "metadata": {
      "needs_background": "light"
     },
     "output_type": "display_data"
    }
   ],
   "source": [
    "plt.scatter(carbs_df[\"Calories\"],carbs_df[\"Carbs (g)\"],edgecolors=\"black\",facecolors=\"purple\")\n",
    "plt.title(\"Carbs Vs Calories\")\n",
    "plt.xlabel(\"Carbs\")\n",
    "plt.ylabel(\"Calories\")\n",
    "plt.savefig(\"Images/carbs_scatter.png\")\n",
    "plt.show()"
   ]
  },
  {
   "cell_type": "code",
   "execution_count": 26,
   "metadata": {},
   "outputs": [
    {
     "data": {
      "image/png": "[encoded data removed]",
      "text/plain": [
       "<Figure size 432x288 with 1 Axes>"
      ]
     },
     "metadata": {
      "needs_background": "light"
     },
     "output_type": "display_data"
    }
   ],
   "source": [
    "plt.scatter(fats_df[\"Calories\"],fats_df[\"Fats (g)\"],edgecolors=\"black\",facecolors=\"purple\")\n",
    "plt.title(\"Fats Vs Calories\")\n",
    "plt.xlabel(\"Fats\")\n",
    "plt.ylabel(\"Calories\")\n",
    "plt.savefig(\"Images/fats_scatter.png\")\n",
    "plt.show()"
   ]
  },
  {
   "cell_type": "markdown",
   "metadata": {
    "scrolled": true
   },
   "source": [
    "Select random row from each macronutrient category to generate a meal"
   ]
  },
  {
   "cell_type": "code",
   "execution_count": 16,
   "metadata": {
    "scrolled": false
   },
   "outputs": [
    {
     "data": {
      "text/html": [
       "<div>\n",
       "<style scoped>\n",
       "    .dataframe tbody tr th:only-of-type {\n",
       "        vertical-align: middle;\n",
       "    }\n",
       "\n",
       "    .dataframe tbody tr th {\n",
       "        vertical-align: top;\n",
       "    }\n",
       "\n",
       "    .dataframe thead th {\n",
       "        text-align: right;\n",
       "    }\n",
       "</style>\n",
       "<table border=\"1\" class=\"dataframe\">\n",
       "  <thead>\n",
       "    <tr style=\"text-align: right;\">\n",
       "      <th></th>\n",
       "      <th>Food</th>\n",
       "      <th>Proteins (g)</th>\n",
       "      <th>Fats</th>\n",
       "      <th>Carbs</th>\n",
       "      <th>Calories</th>\n",
       "      <th>Portion</th>\n",
       "    </tr>\n",
       "  </thead>\n",
       "  <tbody>\n",
       "    <tr>\n",
       "      <th>0</th>\n",
       "      <td>Couscous, plain, cooked (with salt and margarine)</td>\n",
       "      <td>3.5699</td>\n",
       "      <td>5.5998</td>\n",
       "      <td>21.8500</td>\n",
       "      <td>154.0</td>\n",
       "      <td>cup</td>\n",
       "    </tr>\n",
       "    <tr>\n",
       "      <th>1</th>\n",
       "      <td>Tuna salad, with light ranch dressing</td>\n",
       "      <td>10.0800</td>\n",
       "      <td>1.1698</td>\n",
       "      <td>7.2698</td>\n",
       "      <td>78.0</td>\n",
       "      <td>cup</td>\n",
       "    </tr>\n",
       "    <tr>\n",
       "      <th>2</th>\n",
       "      <td>Ravioli, meat filled, with cream sauce</td>\n",
       "      <td>10.1300</td>\n",
       "      <td>8.5600</td>\n",
       "      <td>13.4400</td>\n",
       "      <td>174.0</td>\n",
       "      <td>cup</td>\n",
       "    </tr>\n",
       "  </tbody>\n",
       "</table>\n",
       "</div>"
      ],
      "text/plain": [
       "                                                Food  Proteins (g)    Fats  \\\n",
       "0  Couscous, plain, cooked (with salt and margarine)        3.5699  5.5998   \n",
       "1              Tuna salad, with light ranch dressing       10.0800  1.1698   \n",
       "2             Ravioli, meat filled, with cream sauce       10.1300  8.5600   \n",
       "\n",
       "     Carbs  Calories Portion  \n",
       "0  21.8500     154.0     cup  \n",
       "1   7.2698      78.0     cup  \n",
       "2  13.4400     174.0     cup  "
      ]
     },
     "execution_count": 16,
     "metadata": {},
     "output_type": "execute_result"
    }
   ],
   "source": [
    "# uses the same code as above but renames variables to keep original DFs intact\n",
    "# this section runs a loop through each DF and selects a random food item based on food category\n",
    "random_carb2 = nutrients_df[nutrients_df[\"Category\"] == \"Carbs\"].sample(n=1)\n",
    "random_protein2 = nutrients_df[nutrients_df[\"Category\"] == \"Proteins\"].sample(n=1)\n",
    "random_fats2 = nutrients_df[nutrients_df[\"Category\"] == \"Fats\"].sample(n=1)\n",
    "\n",
    "# loop for carbs DF\n",
    "for i, row in random_carb2.iterrows():\n",
    "    if row[\"Category\"] == \"Carbs\":\n",
    "        a = row[\"Food\"]\n",
    "        b = row[\"Proteins (g)\"]\n",
    "        c = row[\"Fats (g)\"]\n",
    "        d = row[\"Carbs (g)\"]\n",
    "        e = row[\"Calories\"]\n",
    "        f = row[\"Portion_Desc\"]\n",
    "\n",
    "# loop for proteins df\n",
    "for i, row in random_protein2.iterrows():\n",
    "    if row[\"Category\"] == \"Proteins\":\n",
    "        a1 = row[\"Food\"]\n",
    "        b1 = row[\"Proteins (g)\"]\n",
    "        c1 = row[\"Fats (g)\"]\n",
    "        d1 = row[\"Carbs (g)\"]\n",
    "        e1 = row[\"Calories\"]\n",
    "        f1 = row[\"Portion_Desc\"]\n",
    "    \n",
    "# loop for fats df\n",
    "for i, row in random_fats2.iterrows():\n",
    "    if row[\"Category\"] == \"Fats\":\n",
    "        a2 = row[\"Food\"]\n",
    "        b2 = row[\"Proteins (g)\"]\n",
    "        c2 = row[\"Fats (g)\"]\n",
    "        d2 = row[\"Carbs (g)\"]\n",
    "        e2 = row[\"Calories\"]\n",
    "        f2 = row[\"Portion_Desc\"]\n",
    "\n",
    "# creates a dictionary to populate random selections from above code\n",
    "meal = {\"Food\":[a,a1,a2],\n",
    "         \"Proteins (g)\":[b,b1,b2],\n",
    "         \"Fats\":[c,c1,c2],\n",
    "         \"Carbs\":[d,d1,d2],\n",
    "         \"Calories\":[e,e1,e2],\n",
    "         \"Portion\":[f,f1,f2]\n",
    "          }\n",
    "\n",
    "# creates new DF from the above dictionary\n",
    "meal_df = pd.DataFrame(meal)\n",
    "meal_df"
   ]
  },
  {
   "cell_type": "markdown",
   "metadata": {},
   "source": [
    "Plot a pie-chart that shows the caloric portion percentage value for the selected meal"
   ]
  },
  {
   "cell_type": "code",
   "execution_count": 23,
   "metadata": {},
   "outputs": [
    {
     "data": {
      "image/png": "[encoded data removed]",
      "text/plain": [
       "<Figure size 432x288 with 1 Axes>"
      ]
     },
     "metadata": {},
     "output_type": "display_data"
    }
   ],
   "source": [
    "food = [meal_df[\"Food\"].iloc[0], meal_df[\"Food\"].iloc[1], meal_df[\"Food\"].iloc[2]]\n",
    "calories = [meal_df[\"Calories\"].iloc[0], meal_df[\"Calories\"].iloc[1], meal_df[\"Calories\"].iloc[2]]\n",
    "colors = [\"yellow\",\"lightblue\",\"lightcoral\"]\n",
    "plt.pie(calories, labels=food, colors=colors,autopct=\"%.2f%%\",shadow=True, startangle=140)\n",
    "plt.title(\"Caloric Portions\")\n",
    "plt.axis(\"equal\")\n",
    "plt.savefig(\"Images/calorie_pie.png\")\n",
    "plt.show()"
   ]
  },
  {
   "cell_type": "markdown",
   "metadata": {},
   "source": [
    "Generate caloric burn data for a person given a set of user input"
   ]
  },
  {
   "cell_type": "code",
   "execution_count": null,
   "metadata": {},
   "outputs": [],
   "source": [
    "bodyfat = pd.read_csv(\"Data_Sets/Bodyfat.csv\")\n",
    "bodyfat"
   ]
  },
  {
   "cell_type": "code",
   "execution_count": null,
   "metadata": {},
   "outputs": [],
   "source": [
    "#import bodyweight for rest burn for males \n",
    "\n",
    "\n",
    "standaterdmaledayburn = pd.read_csv(\"Data_Sets/weightlossmen.csv\")\n",
    "standaterdmaledayburn\n"
   ]
  },
  {
   "cell_type": "code",
   "execution_count": null,
   "metadata": {},
   "outputs": [],
   "source": [
    "#import bodyweight for rest burn for females \n",
    "\n",
    "femaledayburn= pd.read_csv(\"Data_Sets/weightlosswomen.csv\")\n",
    "femaledayburn\n",
    "\n"
   ]
  },
  {
   "cell_type": "code",
   "execution_count": null,
   "metadata": {},
   "outputs": [],
   "source": [
    "#weight input\n",
    "\n",
    "wwi=input('what is your weight in pounds')"
   ]
  },
  {
   "cell_type": "code",
   "execution_count": null,
   "metadata": {},
   "outputs": [],
   "source": [
    "#age input\n",
    "agei= input(\"whats your age you\")"
   ]
  },
  {
   "cell_type": "code",
   "execution_count": null,
   "metadata": {},
   "outputs": [],
   "source": [
    "#workoput time input fake\n",
    "\n",
    "workouttime=input(\"how long did you work out dont lie to me \")"
   ]
  },
  {
   "cell_type": "code",
   "execution_count": null,
   "metadata": {},
   "outputs": [],
   "source": [
    "#workoput time input real\n",
    "workouttime2=input(\"Really tell me how long in to the nearest hour you actuly worked out for \" )"
   ]
  },
  {
   "cell_type": "code",
   "execution_count": null,
   "metadata": {},
   "outputs": [],
   "source": [
    "#fitbit input for heart rate during the workout \n",
    "hri=input(\"what was your avarage heart rate during your workout\")"
   ]
  },
  {
   "cell_type": "code",
   "execution_count": null,
   "metadata": {},
   "outputs": [],
   "source": [
    "#gender input \n",
    "\n",
    "sex=input(\"whats your gender m/f\")"
   ]
  },
  {
   "cell_type": "code",
   "execution_count": null,
   "metadata": {},
   "outputs": [],
   "source": [
    "#weight rounded to the nearest 20 pounds to match the csv\n",
    "\n",
    "winpounds= int(20*round(float(wwi)/20.))\n",
    "\n",
    "#Heart rate veriable\n",
    "HR = float(hri)\n",
    "#weight veriable \n",
    "W = winpounds/2.2046\n",
    "#age veriable\n",
    "A = float(agei)\n",
    "#time veriable \n",
    "T = float(workouttime2)\n",
    "#create a fork too use the chart \n",
    "\n",
    "\n",
    "if sex == \"m\":\n",
    "#male    \n",
    "    caloricburn = ((-55.0969 + (0.6309 * HR) + (0.1988 * W) + (0.2017 * A))/4.184) * 60 * T\n",
    "else:\n",
    "#female    \n",
    "    caloricburn = ((-20.4022 + (0.4472 * HR) - (0.1263 * W) + (0.074 * A))/4.184) * 60 * T\n",
    "\n",
    "caloricburn"
   ]
  },
  {
   "cell_type": "code",
   "execution_count": null,
   "metadata": {},
   "outputs": [],
   "source": [
    "#sleep input\n",
    "\n",
    "sleep=input(\"how many hours do you sleep a night\")"
   ]
  },
  {
   "cell_type": "code",
   "execution_count": null,
   "metadata": {},
   "outputs": [],
   "source": [
    "#standing input\n",
    "stand=input(\"how many hours do you stand rounded to the neriest hour\")\n"
   ]
  },
  {
   "cell_type": "code",
   "execution_count": null,
   "metadata": {},
   "outputs": [],
   "source": [
    "#sitting input \n",
    "sit=input(\"how many hours do you sit in a day to the neriest hour\")"
   ]
  },
  {
   "cell_type": "code",
   "execution_count": null,
   "metadata": {},
   "outputs": [],
   "source": [
    "#resting veriables  \n",
    "\n",
    "\n",
    "hoursslept= float(sleep)\n",
    "\n",
    "hoursstanding= float(stand)\n",
    "\n",
    "hoursworkingout= T\n",
    "\n",
    "Hourssitting = float(sit)\n",
    "#diffrentiate the male v female sitting burn\n",
    "\n",
    "if sex == \"m\":\n",
    "    for i, row in standaterdmaledayburn.iterrows():\n",
    "        if row[0]== winpounds:\n",
    "                a=row[\"Calories burned after 8 hours of sitting\"]\n",
    "                b=row['Difference in calories burned per hour']\n",
    "else:  \n",
    "    for i, row in femaledayburn.iterrows():\n",
    "        if row[0]== winpounds:\n",
    "                a=row[\"Calories burned after 8 hours of sitting\"]\n",
    "                b=row['Difference in calories burned per hour']\n",
    "    \n",
    "        \n",
    "st=hoursstanding/8\n",
    "s=Hourssitting/8\n",
    "z=hoursslept/8  \n",
    "st1=(a*st)+((b*hoursstanding))\n",
    "\n",
    "y= (a*z)+(a*s) + caloricburn +st1\n",
    "\n",
    "\n",
    "\n",
    "\n",
    "        \n",
    "print(y)\n",
    "\n"
   ]
  },
  {
   "cell_type": "markdown",
   "metadata": {},
   "source": [
    "  #   Final Presentation - URL to slide show is below"
   ]
  },
  {
   "cell_type": "code",
   "execution_count": null,
   "metadata": {},
   "outputs": [],
   "source": [
    "https://docs.google.com/presentation/d/1KLi5q0TCBTiYK-MmorVtA_TLxHw6Yx0QxE3zbSThkT4/edit#slide=id.g76b0c3ddd2_2_134"
   ]
  }
 ],
 "metadata": {
  "kernelspec": {
   "display_name": "Python 3",
   "language": "python",
   "name": "python3"
  },
  "language_info": {
   "codemirror_mode": {
    "name": "ipython",
    "version": 3
   },
   "file_extension": ".py",
   "mimetype": "text/x-python",
   "name": "python",
   "nbconvert_exporter": "python",
   "pygments_lexer": "ipython3",
   "version": "3.6.9"
  }
 },
 "nbformat": 4,
 "nbformat_minor": 2
}
